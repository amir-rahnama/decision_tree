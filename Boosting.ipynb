{
 "cells": [
  {
   "cell_type": "code",
   "execution_count": 63,
   "metadata": {},
   "outputs": [
    {
     "name": "stdout",
     "output_type": "stream",
     "text": [
      "The autoreload extension is already loaded. To reload it, use:\n",
      "  %reload_ext autoreload\n"
     ]
    }
   ],
   "source": [
    "%load_ext autoreload\n",
    "%autoreload 2"
   ]
  },
  {
   "cell_type": "code",
   "execution_count": 240,
   "metadata": {},
   "outputs": [],
   "source": [
    "import numpy as np\n",
    "import pandas as pd\n",
    "from sklearn.tree import DecisionTreeRegressor\n",
    "from sklearn.preprocessing import OneHotEncoder\n",
    "from boosting import BoostingTree"
   ]
  },
  {
   "cell_type": "code",
   "execution_count": 241,
   "metadata": {},
   "outputs": [],
   "source": [
    "training_data_reg = pd.DataFrame([\n",
    "    ['Green', 3, 0.7],\n",
    "    ['Green', 1, 0.2],\n",
    "    ['Red', 1, 0.5],\n",
    "    ['Red', 4, 0.1],\n",
    "    ['Yellow', 4, 0.6],\n",
    "], columns=['color', 'size', 'label'] )\n",
    "\n",
    "data_reg = training_data_reg.iloc[:, 0:-1]\n",
    "labels_reg = training_data_reg.iloc[:, -1]\n",
    "n = pd.get_dummies(data_reg.iloc[:,0])\n",
    "data_reg = data_reg.drop(columns=['color'])\n",
    "train_data_reg = pd.concat([n, data_reg], axis=1)\n",
    "\n",
    "new_data_reg = pd.concat([train_data_reg, labels_reg], axis=1)"
   ]
  },
  {
   "cell_type": "code",
   "execution_count": 242,
   "metadata": {},
   "outputs": [],
   "source": [
    "bt_regression = BoostingTree(mode='regression', data=new_data_reg)\n",
    "p_reg = bt_regression.predict()"
   ]
  },
  {
   "cell_type": "code",
   "execution_count": 243,
   "metadata": {},
   "outputs": [
    {
     "data": {
      "text/plain": [
       "0.22999999999999998"
      ]
     },
     "execution_count": 243,
     "metadata": {},
     "output_type": "execute_result"
    }
   ],
   "source": [
    "bt_regression.cost(new_data_reg.iloc[:, -1], p_reg)"
   ]
  },
  {
   "cell_type": "markdown",
   "metadata": {},
   "source": [
    "### Classification"
   ]
  },
  {
   "cell_type": "code",
   "execution_count": 244,
   "metadata": {},
   "outputs": [],
   "source": [
    "class_data = [['Yes', 12, 'Blue', 'Yes'], ['Yes', 87, 'Green', 'Yes'], ['No', 44, 'Blue', 'No']]\n",
    "\n",
    "class_data = pd.DataFrame(class_data)\n",
    "class_data.columns = ['Likes PopCorn', 'Age', 'Color', 'Label']\n",
    "\n",
    "class_data['Likes PopCorn'] = class_data['Likes PopCorn'].eq('Yes').mul(1)\n",
    "class_data['Label'] = class_data['Label'].eq('Yes').mul(1)\n",
    "\n",
    "dummy_color = pd.get_dummies(class_data['Color'])\n",
    "\n",
    "class_data = class_data.drop(columns=['Color'])\n",
    "class_data_new = pd.concat([dummy_color, class_data,], axis=1)"
   ]
  },
  {
   "cell_type": "code",
   "execution_count": 246,
   "metadata": {},
   "outputs": [
    {
     "name": "stderr",
     "output_type": "stream",
     "text": [
      "/Users/amirrahnama/code/decision_tree/decision_tree.py:152: VisibleDeprecationWarning: Creating an ndarray from ragged nested sequences (which is a list-or-tuple of lists-or-tuples-or ndarrays with different lengths or shapes) is deprecated. If you meant to do this, you must specify 'dtype=object' when creating the ndarray\n",
      "  pred_result.append(self.pred(data.iloc[i]))\n",
      "/Users/amirrahnama/code/decision_tree/decision_tree.py:152: VisibleDeprecationWarning: Creating an ndarray from ragged nested sequences (which is a list-or-tuple of lists-or-tuples-or ndarrays with different lengths or shapes) is deprecated. If you meant to do this, you must specify 'dtype=object' when creating the ndarray\n",
      "  pred_result.append(self.pred(data.iloc[i]))\n",
      "/Users/amirrahnama/code/decision_tree/decision_tree.py:152: VisibleDeprecationWarning: Creating an ndarray from ragged nested sequences (which is a list-or-tuple of lists-or-tuples-or ndarrays with different lengths or shapes) is deprecated. If you meant to do this, you must specify 'dtype=object' when creating the ndarray\n",
      "  pred_result.append(self.pred(data.iloc[i]))\n"
     ]
    }
   ],
   "source": [
    "bt_classification = BoostingTree(mode='classification', data=class_data_new)\n",
    "p = bt_classification.predict()"
   ]
  },
  {
   "cell_type": "code",
   "execution_count": 258,
   "metadata": {},
   "outputs": [
    {
     "data": {
      "text/plain": [
       "12.01461809734018"
      ]
     },
     "execution_count": 258,
     "metadata": {},
     "output_type": "execute_result"
    }
   ],
   "source": [
    "bt_classification.cost(class_data_new.iloc[:, -1], p)"
   ]
  },
  {
   "cell_type": "code",
   "execution_count": null,
   "metadata": {},
   "outputs": [],
   "source": []
  }
 ],
 "metadata": {
  "kernelspec": {
   "display_name": "Python 3",
   "language": "python",
   "name": "python3"
  },
  "language_info": {
   "codemirror_mode": {
    "name": "ipython",
    "version": 3
   },
   "file_extension": ".py",
   "mimetype": "text/x-python",
   "name": "python",
   "nbconvert_exporter": "python",
   "pygments_lexer": "ipython3",
   "version": "3.8.5"
  }
 },
 "nbformat": 4,
 "nbformat_minor": 4
}
